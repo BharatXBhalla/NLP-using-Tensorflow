{
  "nbformat": 4,
  "nbformat_minor": 0,
  "metadata": {
    "colab": {
      "name": "02_Sequences.ipynb",
      "provenance": [],
      "collapsed_sections": [],
      "authorship_tag": "ABX9TyOCojhbdkOAlrIh9oTsZVoG",
      "include_colab_link": true
    },
    "kernelspec": {
      "name": "python3",
      "display_name": "Python 3"
    },
    "language_info": {
      "name": "python"
    }
  },
  "cells": [
    {
      "cell_type": "markdown",
      "metadata": {
        "id": "view-in-github",
        "colab_type": "text"
      },
      "source": [
        "<a href=\"https://colab.research.google.com/github/BharatXBhalla/NLP-using-Tensorflow/blob/main/Sentence_Encodings/02_Sequences.ipynb\" target=\"_parent\"><img src=\"https://colab.research.google.com/assets/colab-badge.svg\" alt=\"Open In Colab\"/></a>"
      ]
    },
    {
      "cell_type": "code",
      "execution_count": 1,
      "metadata": {
        "id": "9ooZHPqHKt2x"
      },
      "outputs": [],
      "source": [
        "from tensorflow.keras.preprocessing.text import Tokenizer"
      ]
    },
    {
      "cell_type": "code",
      "source": [
        "train_sequences =[\"It is a sunny day\",\n",
        "                  \"It is a cloudy day\",\n",
        "                  \"Will it rain today!\"]"
      ],
      "metadata": {
        "id": "w7Jt0POJLHWb"
      },
      "execution_count": 2,
      "outputs": []
    },
    {
      "cell_type": "code",
      "source": [
        "tokenizer = Tokenizer(num_words=100)\n",
        "\n",
        "tokenizer.fit_on_texts(train_sequences)\n",
        "\n",
        "word_index = tokenizer.word_index\n",
        "\n",
        "print(word_index)"
      ],
      "metadata": {
        "colab": {
          "base_uri": "https://localhost:8080/"
        },
        "id": "oK1IHY7LLY6S",
        "outputId": "aa071475-aa41-4e16-b246-c6ae08936472"
      },
      "execution_count": 3,
      "outputs": [
        {
          "output_type": "stream",
          "name": "stdout",
          "text": [
            "{'it': 1, 'is': 2, 'a': 3, 'day': 4, 'sunny': 5, 'cloudy': 6, 'will': 7, 'rain': 8, 'today': 9}\n"
          ]
        }
      ]
    },
    {
      "cell_type": "code",
      "source": [
        "sequences = tokenizer.texts_to_sequences(train_sequences)"
      ],
      "metadata": {
        "id": "QDl3BfnmLn0P"
      },
      "execution_count": 4,
      "outputs": []
    },
    {
      "cell_type": "code",
      "source": [
        "print(train_sequences)"
      ],
      "metadata": {
        "colab": {
          "base_uri": "https://localhost:8080/"
        },
        "id": "D25iaqftL1R4",
        "outputId": "6a161878-8ead-49fc-9ef9-a8f9afa7483e"
      },
      "execution_count": 5,
      "outputs": [
        {
          "output_type": "stream",
          "name": "stdout",
          "text": [
            "['It is a sunny day', 'It is a cloudy day', 'Will it rain today!']\n"
          ]
        }
      ]
    },
    {
      "cell_type": "code",
      "source": [
        "sequences"
      ],
      "metadata": {
        "colab": {
          "base_uri": "https://localhost:8080/"
        },
        "id": "DOANE48oL4sA",
        "outputId": "cf32b8b2-5c66-4bae-ac9d-63c5adb5b223"
      },
      "execution_count": 6,
      "outputs": [
        {
          "output_type": "execute_result",
          "data": {
            "text/plain": [
              "[[1, 2, 3, 5, 4], [1, 2, 3, 6, 4], [7, 1, 8, 9]]"
            ]
          },
          "metadata": {},
          "execution_count": 6
        }
      ]
    },
    {
      "cell_type": "code",
      "source": [
        "new_sentences = [\"Will it be raining today?\",\"It is a pleasant day.\"]"
      ],
      "metadata": {
        "id": "_jChROIOL7Qu"
      },
      "execution_count": 10,
      "outputs": []
    },
    {
      "cell_type": "code",
      "source": [
        "new_sequences = tokenizer.texts_to_sequences(new_sentences)"
      ],
      "metadata": {
        "id": "DDxHvOUcMHdf"
      },
      "execution_count": 11,
      "outputs": []
    },
    {
      "cell_type": "code",
      "source": [
        "new_sequences"
      ],
      "metadata": {
        "colab": {
          "base_uri": "https://localhost:8080/"
        },
        "id": "cYV5LWp-MS2B",
        "outputId": "3d313a0c-12e2-4626-cc6c-3000f3c4ec57"
      },
      "execution_count": 12,
      "outputs": [
        {
          "output_type": "execute_result",
          "data": {
            "text/plain": [
              "[[7, 1, 9], [1, 2, 3, 4]]"
            ]
          },
          "metadata": {},
          "execution_count": 12
        }
      ]
    },
    {
      "cell_type": "code",
      "source": [
        "tokenizer = Tokenizer(num_words=100,oov_token=\"<oov>\")\n",
        "\n",
        "tokenizer.fit_on_texts(train_sequences)\n",
        "\n",
        "word_index = tokenizer.word_index"
      ],
      "metadata": {
        "id": "9w2AMmg9MXHf"
      },
      "execution_count": 13,
      "outputs": []
    },
    {
      "cell_type": "code",
      "source": [
        "new_sequences = tokenizer.texts_to_sequences(new_sentences)"
      ],
      "metadata": {
        "id": "HzcUjP2JMmDD"
      },
      "execution_count": 14,
      "outputs": []
    },
    {
      "cell_type": "code",
      "source": [
        "new_sequences"
      ],
      "metadata": {
        "colab": {
          "base_uri": "https://localhost:8080/"
        },
        "id": "A8qMdw8HMnik",
        "outputId": "760ed6ea-9f00-42bd-f656-d50d70409e6c"
      },
      "execution_count": 15,
      "outputs": [
        {
          "output_type": "execute_result",
          "data": {
            "text/plain": [
              "[[8, 2, 1, 1, 10], [2, 3, 4, 1, 5]]"
            ]
          },
          "metadata": {},
          "execution_count": 15
        }
      ]
    },
    {
      "cell_type": "code",
      "source": [
        "word_index"
      ],
      "metadata": {
        "colab": {
          "base_uri": "https://localhost:8080/"
        },
        "id": "asJoDrKrMouN",
        "outputId": "0cc7402a-0e5f-4ed9-b97c-7c028a14b673"
      },
      "execution_count": 16,
      "outputs": [
        {
          "output_type": "execute_result",
          "data": {
            "text/plain": [
              "{'<oov>': 1,\n",
              " 'a': 4,\n",
              " 'cloudy': 7,\n",
              " 'day': 5,\n",
              " 'is': 3,\n",
              " 'it': 2,\n",
              " 'rain': 9,\n",
              " 'sunny': 6,\n",
              " 'today': 10,\n",
              " 'will': 8}"
            ]
          },
          "metadata": {},
          "execution_count": 16
        }
      ]
    },
    {
      "cell_type": "code",
      "source": [
        ""
      ],
      "metadata": {
        "id": "sWD6HbdYMry7"
      },
      "execution_count": null,
      "outputs": []
    }
  ]
}