{
  "nbformat": 4,
  "nbformat_minor": 0,
  "metadata": {
    "colab": {
      "name": "03_Padding_Sequences.ipynb",
      "provenance": [],
      "collapsed_sections": [],
      "authorship_tag": "ABX9TyPOHdUHFy2kZE1qiQtObuuN",
      "include_colab_link": true
    },
    "kernelspec": {
      "name": "python3",
      "display_name": "Python 3"
    },
    "language_info": {
      "name": "python"
    }
  },
  "cells": [
    {
      "cell_type": "markdown",
      "metadata": {
        "id": "view-in-github",
        "colab_type": "text"
      },
      "source": [
        "<a href=\"https://colab.research.google.com/github/BharatXBhalla/NLP-using-Tensorflow/blob/main/Sentence_Encodings/03_Padding_Sequences.ipynb\" target=\"_parent\"><img src=\"https://colab.research.google.com/assets/colab-badge.svg\" alt=\"Open In Colab\"/></a>"
      ]
    },
    {
      "cell_type": "code",
      "execution_count": 3,
      "metadata": {
        "id": "A3pQV7DHNOt1"
      },
      "outputs": [],
      "source": [
        "from tensorflow.keras.preprocessing.text import Tokenizer\n",
        "from tensorflow.keras.preprocessing.sequence import pad_sequences"
      ]
    },
    {
      "cell_type": "code",
      "source": [
        "train_sentences = [\"It will rain\",\"The Weather is cloudy!\" ,\"Will it be raining today.\",\"It is super hot today\"]"
      ],
      "metadata": {
        "id": "Ybvsmq1BNZpB"
      },
      "execution_count": 4,
      "outputs": []
    },
    {
      "cell_type": "code",
      "source": [
        "tokenizer=Tokenizer(num_words=100,oov_token=\"<oov>\")\n",
        "\n",
        "tokenizer.fit_on_texts(train_sentences)\n",
        "\n",
        "word_index=tokenizer.word_index"
      ],
      "metadata": {
        "id": "l_QsSnYXN8OM"
      },
      "execution_count": 5,
      "outputs": []
    },
    {
      "cell_type": "code",
      "source": [
        "word_index"
      ],
      "metadata": {
        "colab": {
          "base_uri": "https://localhost:8080/"
        },
        "id": "H9Abd-C-OWBS",
        "outputId": "7f8f1b71-9ab0-4e62-99f2-f4eadf395191"
      },
      "execution_count": 6,
      "outputs": [
        {
          "output_type": "execute_result",
          "data": {
            "text/plain": [
              "{'<oov>': 1,\n",
              " 'be': 10,\n",
              " 'cloudy': 9,\n",
              " 'hot': 13,\n",
              " 'is': 4,\n",
              " 'it': 2,\n",
              " 'rain': 6,\n",
              " 'raining': 11,\n",
              " 'super': 12,\n",
              " 'the': 7,\n",
              " 'today': 5,\n",
              " 'weather': 8,\n",
              " 'will': 3}"
            ]
          },
          "metadata": {},
          "execution_count": 6
        }
      ]
    },
    {
      "cell_type": "code",
      "source": [
        "sequences = tokenizer.texts_to_sequences(train_sentences)"
      ],
      "metadata": {
        "id": "fwf5L_71OXHl"
      },
      "execution_count": 7,
      "outputs": []
    },
    {
      "cell_type": "code",
      "source": [
        "padded_seqs=pad_sequences(sequences)"
      ],
      "metadata": {
        "id": "ECtMZd_lOfT2"
      },
      "execution_count": 8,
      "outputs": []
    },
    {
      "cell_type": "code",
      "source": [
        "sequences"
      ],
      "metadata": {
        "colab": {
          "base_uri": "https://localhost:8080/"
        },
        "id": "7ofAhAowOnIx",
        "outputId": "101316eb-e053-42d8-eacb-3bf80026f5c3"
      },
      "execution_count": 9,
      "outputs": [
        {
          "output_type": "execute_result",
          "data": {
            "text/plain": [
              "[[2, 3, 6], [7, 8, 4, 9], [3, 2, 10, 11, 5], [2, 4, 12, 13, 5]]"
            ]
          },
          "metadata": {},
          "execution_count": 9
        }
      ]
    },
    {
      "cell_type": "code",
      "source": [
        "padded_seqs"
      ],
      "metadata": {
        "colab": {
          "base_uri": "https://localhost:8080/"
        },
        "id": "TJFIhfPiOrXo",
        "outputId": "867d59b0-a1f8-4fd1-ee83-368a20d6e5db"
      },
      "execution_count": 11,
      "outputs": [
        {
          "output_type": "execute_result",
          "data": {
            "text/plain": [
              "array([[ 0,  0,  2,  3,  6],\n",
              "       [ 0,  7,  8,  4,  9],\n",
              "       [ 3,  2, 10, 11,  5],\n",
              "       [ 2,  4, 12, 13,  5]], dtype=int32)"
            ]
          },
          "metadata": {},
          "execution_count": 11
        }
      ]
    },
    {
      "cell_type": "code",
      "source": [
        "padded_seqs = pad_sequences(sequences,maxlen=3,padding=\"post\",truncating=\"post\")"
      ],
      "metadata": {
        "id": "lDd92SAAOtMC"
      },
      "execution_count": 16,
      "outputs": []
    },
    {
      "cell_type": "code",
      "source": [
        "padded_seqs"
      ],
      "metadata": {
        "colab": {
          "base_uri": "https://localhost:8080/"
        },
        "id": "Rz8qwREeO55k",
        "outputId": "d51ee66e-0567-41cf-88af-22c3d010c37b"
      },
      "execution_count": 17,
      "outputs": [
        {
          "output_type": "execute_result",
          "data": {
            "text/plain": [
              "array([[ 2,  3,  6],\n",
              "       [ 7,  8,  4],\n",
              "       [ 3,  2, 10],\n",
              "       [ 2,  4, 12]], dtype=int32)"
            ]
          },
          "metadata": {},
          "execution_count": 17
        }
      ]
    },
    {
      "cell_type": "code",
      "source": [
        ""
      ],
      "metadata": {
        "id": "ZJYE1HgEO71v"
      },
      "execution_count": null,
      "outputs": []
    }
  ]
}